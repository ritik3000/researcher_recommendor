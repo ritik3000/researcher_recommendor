{
 "cells": [
  {
   "cell_type": "code",
   "execution_count": 16,
   "metadata": {},
   "outputs": [],
   "source": [
    "import json\n",
    "import pandas as pd"
   ]
  },
  {
   "cell_type": "code",
   "execution_count": 10,
   "metadata": {},
   "outputs": [],
   "source": [
    "config = json.loads(open('C:/Users/ritik/Downloads/Compressed/us-financial-news-articles/blogs_0000001.json').read())"
   ]
  },
  {
   "cell_type": "code",
   "execution_count": 8,
   "metadata": {},
   "outputs": [],
   "source": [
    "config=open('C:/Users/ritik/Downloads/Compressed/us-financial-news-articles/blogs_0000001.json').read()"
   ]
  },
  {
   "cell_type": "code",
   "execution_count": 11,
   "metadata": {},
   "outputs": [
    {
     "data": {
      "text/plain": [
       "{'organizations': [],\n",
       " 'uuid': 'f86b78623d7a4412c76c1d80ed091184e2c29969',\n",
       " 'thread': {'social': {'gplus': {'shares': 0},\n",
       "   'pinterest': {'shares': 0},\n",
       "   'vk': {'shares': 0},\n",
       "   'linkedin': {'shares': 5},\n",
       "   'facebook': {'likes': 3, 'shares': 3, 'comments': 0},\n",
       "   'stumbledupon': {'shares': 0}},\n",
       "  'site_full': 'www.cnbc.com',\n",
       "  'main_image': 'https://fm.cnbc.com/applications/cnbc.com/resources/img/editorial/2016/11/14/104106739-GettyImages-171532118.1910x1000.jpg',\n",
       "  'site_section': 'http://www.cnbc.com/id/19746125/device/rss/rss.xml',\n",
       "  'section_title': 'Top News and Analysis (pro)',\n",
       "  'url': 'https://www.cnbc.com/2018/01/03/emerging-markets-are-set-for-an-even-bigger-rally-in-2018-says-one-technician.html',\n",
       "  'country': 'US',\n",
       "  'domain_rank': 767,\n",
       "  'title': 'Emerging markets are set for an even bigger rally in 2018, says one technician',\n",
       "  'performance_score': 0,\n",
       "  'site': 'cnbc.com',\n",
       "  'participants_count': 0,\n",
       "  'title_full': '',\n",
       "  'spam_score': 0.0,\n",
       "  'site_type': 'blogs',\n",
       "  'published': '2018-01-03T15:00:00.000+02:00',\n",
       "  'replies_count': 0,\n",
       "  'uuid': 'f86b78623d7a4412c76c1d80ed091184e2c29969'},\n",
       " 'author': '',\n",
       " 'url': 'https://www.cnbc.com/2018/01/03/emerging-markets-are-set-for-an-even-bigger-rally-in-2018-says-one-technician.html',\n",
       " 'ord_in_thread': 0,\n",
       " 'title': 'Emerging markets are set for an even bigger rally in 2018, says one technician',\n",
       " 'locations': [],\n",
       " 'entities': {'persons': [{'name': 'todd gordon of tradi',\n",
       "    'sentiment': 'negative'},\n",
       "   {'name': 'gordon', 'sentiment': 'none'}],\n",
       "  'locations': [{'name': 'u.s.', 'sentiment': 'none'},\n",
       "   {'name': 'the u.s.', 'sentiment': 'none'}],\n",
       "  'organizations': [{'name': 'cnbc', 'sentiment': 'none'},\n",
       "   {'name': 'eem', 'sentiment': 'none'}]},\n",
       " 'highlightText': '',\n",
       " 'language': 'english',\n",
       " 'persons': [],\n",
       " 'text': '17 Hours Ago | 02:56 \\nEmerging markets soared more than 33 percent in 2017, and Todd Gordon of TradingAnalysis.com says the rally won\\'t stop. \\nA big part of the rally in emerging markets, tracked by the emerging market ETF EEM , was a weak dollar. And given that Gordon still sees the inverse relationship between EEM and the dollar, measured in his charts by the dollar-tracking ETF UUP , he believes the U.S. currency will continue to help the group. \\n\"We have a falling U.S. dollar, which will support international and emerging market currencies and will give those EEM stocks a boost,\" Gordon said Tuesday on CNBC\\'s \"Trading Nation.\" The U.S. dollar in 2017 posted its worst annual performance in 14 years, while EEM saw its best performance since 2013. \\nAs for how high the latter could go, Gordon says EEM has broken \"resistance\" at around $45, which was the ETF\\'s 2014 highs. That $45 region is now what he calls \"support,\" and he sees it rallying to $50, which the ETF hasn\\'t hit since mid-2011. \\nTo play for a move higher, Gordon suggested buying the February 48/50 call spread for 72 cents, or $72 per options contract. This means that if EEM closes above $50 on Feb. 16, then Gordon could make a maximum reward of $128 on the trade. \\nBut if EEM were to close below $48, then Gordon would lose the $72 he paid for the trade. As a result, Gordon wants to establish a point at which to get out. \\n\"If the 72 cent premium we just laid out gets cut in half to about 36 cents, let\\'s cut the trade and move on,\" he said. \\nEEM started the year off strong, rallying more than 1 percent on Tuesday.',\n",
       " 'external_links': [],\n",
       " 'published': '2018-01-03T15:00:00.000+02:00',\n",
       " 'crawled': '2018-01-03T15:34:36.006+02:00',\n",
       " 'highlightTitle': ''}"
      ]
     },
     "execution_count": 11,
     "metadata": {},
     "output_type": "execute_result"
    }
   ],
   "source": [
    "config"
   ]
  },
  {
   "cell_type": "code",
   "execution_count": 12,
   "metadata": {},
   "outputs": [
    {
     "data": {
      "text/plain": [
       "'17 Hours Ago | 02:56 \\nEmerging markets soared more than 33 percent in 2017, and Todd Gordon of TradingAnalysis.com says the rally won\\'t stop. \\nA big part of the rally in emerging markets, tracked by the emerging market ETF EEM , was a weak dollar. And given that Gordon still sees the inverse relationship between EEM and the dollar, measured in his charts by the dollar-tracking ETF UUP , he believes the U.S. currency will continue to help the group. \\n\"We have a falling U.S. dollar, which will support international and emerging market currencies and will give those EEM stocks a boost,\" Gordon said Tuesday on CNBC\\'s \"Trading Nation.\" The U.S. dollar in 2017 posted its worst annual performance in 14 years, while EEM saw its best performance since 2013. \\nAs for how high the latter could go, Gordon says EEM has broken \"resistance\" at around $45, which was the ETF\\'s 2014 highs. That $45 region is now what he calls \"support,\" and he sees it rallying to $50, which the ETF hasn\\'t hit since mid-2011. \\nTo play for a move higher, Gordon suggested buying the February 48/50 call spread for 72 cents, or $72 per options contract. This means that if EEM closes above $50 on Feb. 16, then Gordon could make a maximum reward of $128 on the trade. \\nBut if EEM were to close below $48, then Gordon would lose the $72 he paid for the trade. As a result, Gordon wants to establish a point at which to get out. \\n\"If the 72 cent premium we just laid out gets cut in half to about 36 cents, let\\'s cut the trade and move on,\" he said. \\nEEM started the year off strong, rallying more than 1 percent on Tuesday.'"
      ]
     },
     "execution_count": 12,
     "metadata": {},
     "output_type": "execute_result"
    }
   ],
   "source": [
    "config['text']"
   ]
  },
  {
   "cell_type": "code",
   "execution_count": null,
   "metadata": {},
   "outputs": [],
   "source": []
  },
  {
   "cell_type": "code",
   "execution_count": 264,
   "metadata": {},
   "outputs": [],
   "source": [
    "config = json.loads(open('C:/Users/ritik/Downloads/Compressed/us-financial-news-articles/news_0035120.json',encoding=\"utf8\").read().strip())"
   ]
  },
  {
   "cell_type": "code",
   "execution_count": 265,
   "metadata": {},
   "outputs": [
    {
     "data": {
      "text/plain": [
       "\"January 22, 2018 / 7:03 AM / Updated 8 hours ago UK government questions Scottish bid to show Britain can alone revoke Brexit Elisabeth O'Leary 4 Min Read \\nEDINBURGH (Reuters) - The British government believes the question of whether it alone can stop Brexit is irrelevant, since it does not intend to change its mind about leaving the European Union, according to its response to a legal challenge by Scottish lawmakers opposed to Brexit. \\nIn a court document seen by Reuters, Theresa May’s government submitted its legal response to the challenge filed by a group of anti-Brexit Scottish lawmakers at Scotland’s Court of Session, its supreme civil court. Now the court must decide within a two-week period whether a full hearing should be called. \\nThe petitioners seek to show that Britain can, if the case arises, change its mind about leaving the world’s biggest trading bloc and do so alone. They say if that were the case, Britain’s bargaining position would be strengthened because it would not have to kowtow to the demands of the other 27 EU members to rejoin. \\nMay formally notified the EU of Britain’s intention to leave by triggering Article 50 of the Lisbon Treaty on March 29 last year, starting a two-year exit process. \\nShe has said she will not tolerate any attempt in parliament to block it. But British lawmakers defied the government in December by voting against May’s wishes and securing parliament a much more substantial say on whether to accept the final Brexit deal. \\nThe 21-page court document, sent as a response from Britain’s Brexit Minister David Davis, argued that the petitioners had failed to provide proper grounds. “There not being a genuine dispute as to the proper construction of Article 50(2) TEU, the orders sought should be refused.” \\nA spokeswoman for the UK government had no immediate comment. \\nBritons voted 51.9 percent to leave the EU in June 2016, and May is currently drawing up a plan for Britain’s prospective trade deal with the EU after Brexit happens. \\n“What would be terrible would be for parliament to decide it doesn’t like the (Brexit) deal the government has managed to do and it fell a long way short of what the people were promised in the referendum campaign and for no one to know what that meant,” Jo Maugham QC, who has crowd-funded the petition, told Reuters. \\n“It would be enormously disruptive to the political and economic life of the whole of the European Union,” he said. \\n“What we can’t know is when the question (of revoking) will arise or whether the question will arise. What we can know is that we will bloody well wish (the question) was answered before it had arisen” he said. \\nSeparately, a legal source told Reuters that a Labour lawmaker was preparing a letter of support from other lawmakers for the Scottish Brexit litigation. \\nScotland’s supreme civil judicial body will now decide whether the case goes to hearing and, eventually, to the European Court of Justice to make a final decision. It may have a bearing on whether or not Brexit happens and how it happens, if public opinion should change. \\n“The government want us to believe that you either accept the deal on offer or you crash out on March 29 2019 with no deal” said Joanna Cherry QC, one of the petitioners and lawmaker for the Scottish National Party. \\n“Both (European Council President) Donald Tusk and (French President Emmanuel) Macron have in the past week mentioned the possibility that the UK could still change its mind about leaving, the implication being that such a change of mind would be acceptable to (other EU members).” \\nSince the referendum, opponents of Brexit at home and abroad have said Britain could change its mind legally and avoid what they say will be disastrous consequences for the economy. Reporting by Elisabeth O'Leary, Editing by William Maclean\""
      ]
     },
     "execution_count": 265,
     "metadata": {},
     "output_type": "execute_result"
    }
   ],
   "source": [
    "config['text']"
   ]
  },
  {
   "cell_type": "code",
   "execution_count": 266,
   "metadata": {},
   "outputs": [],
   "source": [
    "if config['text'].find('PM')!=-1:\n",
    "    config['text']=config['text'][config['text'].find('PM')+2:]\n",
    "    \n",
    "if config['text'].find('AM')!=-1:\n",
    "    config['text']=config['text'][config['text'].find('AM')+2:]"
   ]
  },
  {
   "cell_type": "code",
   "execution_count": 267,
   "metadata": {},
   "outputs": [
    {
     "data": {
      "text/plain": [
       "-1"
      ]
     },
     "execution_count": 267,
     "metadata": {},
     "output_type": "execute_result"
    }
   ],
   "source": [
    "config['text'].find('aM')"
   ]
  },
  {
   "cell_type": "code",
   "execution_count": 268,
   "metadata": {},
   "outputs": [
    {
     "data": {
      "text/plain": [
       "\" / Updated 8 hours ago UK government questions Scottish bid to show Britain can alone revoke Brexit Elisabeth O'Leary 4 Min Read \\nEDINBURGH (Reuters) - The British government believes the question of whether it alone can stop Brexit is irrelevant, since it does not intend to change its mind about leaving the European Union, according to its response to a legal challenge by Scottish lawmakers opposed to Brexit. \\nIn a court document seen by Reuters, Theresa May’s government submitted its legal response to the challenge filed by a group of anti-Brexit Scottish lawmakers at Scotland’s Court of Session, its supreme civil court. Now the court must decide within a two-week period whether a full hearing should be called. \\nThe petitioners seek to show that Britain can, if the case arises, change its mind about leaving the world’s biggest trading bloc and do so alone. They say if that were the case, Britain’s bargaining position would be strengthened because it would not have to kowtow to the demands of the other 27 EU members to rejoin. \\nMay formally notified the EU of Britain’s intention to leave by triggering Article 50 of the Lisbon Treaty on March 29 last year, starting a two-year exit process. \\nShe has said she will not tolerate any attempt in parliament to block it. But British lawmakers defied the government in December by voting against May’s wishes and securing parliament a much more substantial say on whether to accept the final Brexit deal. \\nThe 21-page court document, sent as a response from Britain’s Brexit Minister David Davis, argued that the petitioners had failed to provide proper grounds. “There not being a genuine dispute as to the proper construction of Article 50(2) TEU, the orders sought should be refused.” \\nA spokeswoman for the UK government had no immediate comment. \\nBritons voted 51.9 percent to leave the EU in June 2016, and May is currently drawing up a plan for Britain’s prospective trade deal with the EU after Brexit happens. \\n“What would be terrible would be for parliament to decide it doesn’t like the (Brexit) deal the government has managed to do and it fell a long way short of what the people were promised in the referendum campaign and for no one to know what that meant,” Jo Maugham QC, who has crowd-funded the petition, told Reuters. \\n“It would be enormously disruptive to the political and economic life of the whole of the European Union,” he said. \\n“What we can’t know is when the question (of revoking) will arise or whether the question will arise. What we can know is that we will bloody well wish (the question) was answered before it had arisen” he said. \\nSeparately, a legal source told Reuters that a Labour lawmaker was preparing a letter of support from other lawmakers for the Scottish Brexit litigation. \\nScotland’s supreme civil judicial body will now decide whether the case goes to hearing and, eventually, to the European Court of Justice to make a final decision. It may have a bearing on whether or not Brexit happens and how it happens, if public opinion should change. \\n“The government want us to believe that you either accept the deal on offer or you crash out on March 29 2019 with no deal” said Joanna Cherry QC, one of the petitioners and lawmaker for the Scottish National Party. \\n“Both (European Council President) Donald Tusk and (French President Emmanuel) Macron have in the past week mentioned the possibility that the UK could still change its mind about leaving, the implication being that such a change of mind would be acceptable to (other EU members).” \\nSince the referendum, opponents of Brexit at home and abroad have said Britain could change its mind legally and avoid what they say will be disastrous consequences for the economy. Reporting by Elisabeth O'Leary, Editing by William Maclean\""
      ]
     },
     "execution_count": 268,
     "metadata": {},
     "output_type": "execute_result"
    }
   ],
   "source": [
    "config['text']"
   ]
  },
  {
   "cell_type": "code",
   "execution_count": 269,
   "metadata": {},
   "outputs": [],
   "source": [
    "def load_doc(filename):\n",
    "\t# open the file as read only\n",
    "\tfile = open(filename, encoding='utf-8')\n",
    "\t# read all text\n",
    "\ttext = file.read()\n",
    "\t# close the file\n",
    "\tfile.close()\n",
    "\treturn text\n"
   ]
  },
  {
   "cell_type": "code",
   "execution_count": 128,
   "metadata": {},
   "outputs": [
    {
     "ename": "FileNotFoundError",
     "evalue": "[Errno 2] No such file or directory: 'C:/Users/ritik/Downloads/Compressed/us-financial-news-articles/blogs_0000011.json'",
     "output_type": "error",
     "traceback": [
      "\u001b[1;31m---------------------------------------------------------------------------\u001b[0m",
      "\u001b[1;31mFileNotFoundError\u001b[0m                         Traceback (most recent call last)",
      "\u001b[1;32m<ipython-input-128-aae1fd7a2a87>\u001b[0m in \u001b[0;36m<module>\u001b[1;34m()\u001b[0m\n\u001b[1;32m----> 1\u001b[1;33m \u001b[0mxy\u001b[0m\u001b[1;33m=\u001b[0m\u001b[0mjson\u001b[0m\u001b[1;33m.\u001b[0m\u001b[0mloads\u001b[0m\u001b[1;33m(\u001b[0m\u001b[0mopen\u001b[0m\u001b[1;33m(\u001b[0m\u001b[1;34m'C:/Users/ritik/Downloads/Compressed/us-financial-news-articles/blogs_0000011.json'\u001b[0m\u001b[1;33m,\u001b[0m\u001b[0mencoding\u001b[0m\u001b[1;33m=\u001b[0m\u001b[1;34m\"utf8\"\u001b[0m\u001b[1;33m)\u001b[0m\u001b[1;33m.\u001b[0m\u001b[0mread\u001b[0m\u001b[1;33m(\u001b[0m\u001b[1;33m)\u001b[0m\u001b[1;33m.\u001b[0m\u001b[0mstrip\u001b[0m\u001b[1;33m(\u001b[0m\u001b[1;33m)\u001b[0m\u001b[1;33m)\u001b[0m\u001b[1;33m\u001b[0m\u001b[0m\n\u001b[0m",
      "\u001b[1;31mFileNotFoundError\u001b[0m: [Errno 2] No such file or directory: 'C:/Users/ritik/Downloads/Compressed/us-financial-news-articles/blogs_0000011.json'"
     ]
    }
   ],
   "source": [
    "xy=json.loads(open('C:/Users/ritik/Downloads/Compressed/us-financial-news-articles/blogs_0000011.json',encoding=\"utf8\").read().strip())"
   ]
  },
  {
   "cell_type": "code",
   "execution_count": 127,
   "metadata": {},
   "outputs": [
    {
     "data": {
      "text/plain": [
       "'Published: Jan 2, 2018 5:59 p.m. ET Share \\nFew mainstream investors have bought large sums of bitcoin, scared off by concerns about cybersecurity and liquidity Getty Images \\nBy Rob Copeland \\nOne of the biggest names in Silicon Valley is placing a moonshot bet on bitcoin BTCUSD, +0.72% . \\nFounders Fund, the venture-capital firm co-founded by Peter Thiel, has amassed hundreds of millions of dollars of the volatile cryptocurrency, people familiar with the matter said. The bet has been spread across several of the firm’s most recent funds, the people said, including one that began investing in mid-2017 and made bitcoin one of its first investments. \\nFounders and Thiel, 50 years old, are well-known for early investments in companies like Facebook Inc. FB, +2.81% that sometimes take years to come to fruition. The bitcoin bet is quickly showing promise. Founders bought around $15 million to $20 million in bitcoin, and it has told investors the firm’s haul is now worth hundreds of millions of dollars after the digital currency’s ripping rise in the past year. \\nIt isn’t clear if Founders has sold any of its holdings yet. The bet hasn’t been previously reported.'"
      ]
     },
     "execution_count": 127,
     "metadata": {},
     "output_type": "execute_result"
    }
   ],
   "source": [
    "xy['text']"
   ]
  },
  {
   "cell_type": "code",
   "execution_count": 38,
   "metadata": {},
   "outputs": [],
   "source": [
    "from nltk.corpus import stopwords \n",
    "from nltk.stem.wordnet import WordNetLemmatizer\n",
    "import string\n",
    "stop = set(stopwords.words('english'))\n",
    "exclude = set(string.punctuation) \n",
    "lemma = WordNetLemmatizer()\n",
    "def clean(doc):\n",
    "    stop_free = \" \".join([i for i in doc.lower().split() if i not in stop])\n",
    "    punc_free = ''.join(ch for ch in stop_free if ch not in exclude)\n",
    "    normalized = \" \".join(lemma.lemmatize(word) for word in punc_free.split())\n",
    "    return normalized\n",
    "\n"
   ]
  },
  {
   "cell_type": "code",
   "execution_count": 281,
   "metadata": {},
   "outputs": [
    {
     "ename": "TabError",
     "evalue": "inconsistent use of tabs and spaces in indentation (<ipython-input-281-49199e59e43c>, line 12)",
     "output_type": "error",
     "traceback": [
      "\u001b[1;36m  File \u001b[1;32m\"<ipython-input-281-49199e59e43c>\"\u001b[1;36m, line \u001b[1;32m12\u001b[0m\n\u001b[1;33m    line = [i for i in line if i not in stop]\u001b[0m\n\u001b[1;37m                                             ^\u001b[0m\n\u001b[1;31mTabError\u001b[0m\u001b[1;31m:\u001b[0m inconsistent use of tabs and spaces in indentation\n"
     ]
    }
   ],
   "source": [
    "def clean_lines(lines):\n",
    "\tcleaned = list()\n",
    "\t# prepare a translation table to remove punctuation\n",
    "\ttable = str.maketrans('', '', string.punctuation)\n",
    "\tfor line in lines:\n",
    "\t\t# strip source cnn office if it exists\n",
    "\t\t# tokenize on white space\n",
    "\t\tline = line.split()\n",
    "\t\t# convert to lower case\n",
    "\t\tline = [word.lower() for word in line]\n",
    "\t\t# remove punctuation from each token\n",
    "        line = [i for i in line if i not in stop]\n",
    "        line = [ch for ch in line if ch not in exclude]\n",
    "        normalized = [lemma.lemmatize(word) for word in line]\n",
    "\t\tline = [w.translate(table) for w in line]\n",
    "\t\t# remove tokens with numbers in them\n",
    "\t\tline = [word for word in line if word.isalpha()]\n",
    "\t\t# store as string\n",
    "\t\tcleaned.append(' '.join(line))\n",
    "\t# remove empty strings\n",
    "\tcleaned = [c for c in cleaned if len(c) > 0]\n",
    "\treturn cleaned"
   ]
  },
  {
   "cell_type": "code",
   "execution_count": 274,
   "metadata": {},
   "outputs": [],
   "source": [
    "rd1=clean_lines(config['text'].split('.'))"
   ]
  },
  {
   "cell_type": "code",
   "execution_count": null,
   "metadata": {},
   "outputs": [],
   "source": []
  },
  {
   "cell_type": "code",
   "execution_count": 275,
   "metadata": {},
   "outputs": [
    {
     "data": {
      "text/plain": [
       "['updated hours ago uk government questions scottish bid to show britain can alone revoke brexit elisabeth oleary min read edinburgh reuters the british government believes the question of whether it alone can stop brexit is irrelevant since it does not intend to change its mind about leaving the european union according to its response to a legal challenge by scottish lawmakers opposed to brexit',\n",
       " 'in a court document seen by reuters theresa government submitted its legal response to the challenge filed by a group of antibrexit scottish lawmakers at court of session its supreme civil court',\n",
       " 'now the court must decide within a twoweek period whether a full hearing should be called',\n",
       " 'the petitioners seek to show that britain can if the case arises change its mind about leaving the biggest trading bloc and do so alone',\n",
       " 'they say if that were the case bargaining position would be strengthened because it would not have to kowtow to the demands of the other eu members to rejoin',\n",
       " 'may formally notified the eu of intention to leave by triggering article of the lisbon treaty on march last year starting a twoyear exit process',\n",
       " 'she has said she will not tolerate any attempt in parliament to block it',\n",
       " 'but british lawmakers defied the government in december by voting against wishes and securing parliament a much more substantial say on whether to accept the final brexit deal',\n",
       " 'the court document sent as a response from brexit minister david davis argued that the petitioners had failed to provide proper grounds',\n",
       " 'not being a genuine dispute as to the proper construction of article teu the orders sought should be refused',\n",
       " 'a spokeswoman for the uk government had no immediate comment',\n",
       " 'britons voted',\n",
       " 'percent to leave the eu in june and may is currently drawing up a plan for prospective trade deal with the eu after brexit happens',\n",
       " 'would be terrible would be for parliament to decide it like the brexit deal the government has managed to do and it fell a long way short of what the people were promised in the referendum campaign and for no one to know what that jo maugham qc who has crowdfunded the petition told reuters',\n",
       " 'would be enormously disruptive to the political and economic life of the whole of the european he said',\n",
       " 'we know is when the question of revoking will arise or whether the question will arise',\n",
       " 'what we can know is that we will bloody well wish the question was answered before it had he said',\n",
       " 'separately a legal source told reuters that a labour lawmaker was preparing a letter of support from other lawmakers for the scottish brexit litigation',\n",
       " 'supreme civil judicial body will now decide whether the case goes to hearing and eventually to the european court of justice to make a final decision',\n",
       " 'it may have a bearing on whether or not brexit happens and how it happens if public opinion should change',\n",
       " 'government want us to believe that you either accept the deal on offer or you crash out on march with no said joanna cherry qc one of the petitioners and lawmaker for the scottish national party',\n",
       " 'european council president donald tusk and french president emmanuel macron have in the past week mentioned the possibility that the uk could still change its mind about leaving the implication being that such a change of mind would be acceptable to other eu members',\n",
       " 'since the referendum opponents of brexit at home and abroad have said britain could change its mind legally and avoid what they say will be disastrous consequences for the economy',\n",
       " 'reporting by elisabeth oleary editing by william maclean']"
      ]
     },
     "execution_count": 275,
     "metadata": {},
     "output_type": "execute_result"
    }
   ],
   "source": [
    "rd1"
   ]
  },
  {
   "cell_type": "code",
   "execution_count": 143,
   "metadata": {},
   "outputs": [
    {
     "data": {
      "text/plain": [
       "['january pm updated hours ago dont extinguish migrants hopes pope says on world day of peace reuters staff min read vatican city reuters pope francis described migrants and refugees as the and most on monday using his traditional new address to to people he has urged leaders to do more to help',\n",
       " 'pope francis leads a mass to mark the world day of peace in saint peters basilica at the vatican january',\n",
       " 'reutersmax rossi francis reminded some people who gathered in st',\n",
       " 'square at the vatican that he had chosen the plight of migrants and refugees as the theme for the roman catholic world day of peace which is celebrated every january',\n",
       " 'this peace to which everyone has a right many of them are willing to risk their lives in a journey which is often long and dangerous they are willing to face strain and suffering',\n",
       " 'let us not extinguish the hope in their hearts let us not suffocate their hopes for across the world the mass movement of people has shot to the top of the political agenda and francis has made defending those who migrate a central theme of his papacy',\n",
       " 'pope francis is helped with his hat as he leads a mass to mark the world day of peace in saint peters basilica at the vatican january',\n",
       " 'reutersmax rossi during a trip to myanmar and bangladesh last year he met muslim refugees and called for decisive measures to solve the political problems that caused many to flee',\n",
       " 'he has also criticised president donald stated intention to build a wall along the u',\n",
       " 's',\n",
       " 'border with mexico to keep out illegal immigrants',\n",
       " 'slideshow images in a homily earlier on monday francis said everyone should look after their soul by taking a moment of silence every day keep our freedom from being corroded by the banality of consumerism the blare of commercials the stream of empty words and the overpowering waves of empty chatter and loud',\n",
       " 'in a message released in november ahead of the world day of peace francis said politicians who stoke fear of migrants were sowing violence and racism',\n",
       " 'he acknowledged that the presence of immigrants can compound existing problems in a country but appealed for practical ways to be found to welcome newcomers',\n",
       " 'on monday he said is important that there is a commitment from everyone from civil institutions and those in education welfare and church organisations to ensure a peaceful future for refugees migrants everyone',\n",
       " 'reporting by isla binnie editing by jason neely']"
      ]
     },
     "execution_count": 143,
     "metadata": {},
     "output_type": "execute_result"
    }
   ],
   "source": [
    "rd1"
   ]
  },
  {
   "cell_type": "code",
   "execution_count": null,
   "metadata": {},
   "outputs": [],
   "source": [
    "corpora.Dictionary(doc_clean)\n"
   ]
  },
  {
   "cell_type": "code",
   "execution_count": 249,
   "metadata": {},
   "outputs": [],
   "source": [
    "doc_clean = [clean(doc).split() for doc in config['text']] "
   ]
  },
  {
   "cell_type": "code",
   "execution_count": 251,
   "metadata": {},
   "outputs": [],
   "source": [
    "doc1 = \"Sugar is bad to consume. My sister likes to have sugar, but not my father.\"\n",
    "doc2 = \"My father spends a lot of time driving my sister around to dance practice.\"\n",
    "doc3 = \"Doctors suggest that driving may cause increased stress and blood pressure.\"\n",
    "doc4 = \"Sometimes I feel pressure to perform well at school, but my father never seems to drive my sister to do better.\"\n",
    "doc5 = \"Health experts say that Sugar is not good for your lifestyle.\"\n",
    "\n",
    "# compile documents\n",
    "doc_complete = [doc1, doc2, doc3, doc4, doc5]"
   ]
  },
  {
   "cell_type": "code",
   "execution_count": 252,
   "metadata": {},
   "outputs": [],
   "source": [
    "from nltk.corpus import stopwords \n",
    "from nltk.stem.wordnet import WordNetLemmatizer\n",
    "import string\n",
    "stop = set(stopwords.words('english'))\n",
    "exclude = set(string.punctuation) \n",
    "lemma = WordNetLemmatizer()\n",
    "def clean(doc):\n",
    "    stop_free = \" \".join([i for i in doc.lower().split() if i not in stop])\n",
    "    punc_free = ''.join(ch for ch in stop_free if ch not in exclude)\n",
    "    normalized = \" \".join(lemma.lemmatize(word) for word in punc_free.split())\n",
    "    return normalized\n",
    "\n",
    "doc_clean = [clean(doc).split() for doc in doc_complete]"
   ]
  },
  {
   "cell_type": "code",
   "execution_count": 253,
   "metadata": {},
   "outputs": [
    {
     "data": {
      "text/plain": [
       "[['sugar', 'bad', 'consume', 'sister', 'like', 'sugar', 'father'],\n",
       " ['father',\n",
       "  'spends',\n",
       "  'lot',\n",
       "  'time',\n",
       "  'driving',\n",
       "  'sister',\n",
       "  'around',\n",
       "  'dance',\n",
       "  'practice'],\n",
       " ['doctor',\n",
       "  'suggest',\n",
       "  'driving',\n",
       "  'may',\n",
       "  'cause',\n",
       "  'increased',\n",
       "  'stress',\n",
       "  'blood',\n",
       "  'pressure'],\n",
       " ['sometimes',\n",
       "  'feel',\n",
       "  'pressure',\n",
       "  'perform',\n",
       "  'well',\n",
       "  'school',\n",
       "  'father',\n",
       "  'never',\n",
       "  'seems',\n",
       "  'drive',\n",
       "  'sister',\n",
       "  'better'],\n",
       " ['health', 'expert', 'say', 'sugar', 'good', 'lifestyle']]"
      ]
     },
     "execution_count": 253,
     "metadata": {},
     "output_type": "execute_result"
    }
   ],
   "source": [
    "doc_clean"
   ]
  },
  {
   "cell_type": "code",
   "execution_count": 299,
   "metadata": {},
   "outputs": [],
   "source": [
    "def clean_lines(lines):\n",
    "    cleaned = list()\n",
    "    # prepare a translation table to remove punctuation\n",
    "    table = str.maketrans('', '', string.punctuation)\n",
    "    for line in lines:\n",
    "        # strip source cnn office if it exists\n",
    "        # tokenize on white space\n",
    "        line = line.split()\n",
    "        # convert to lower case\n",
    "        line = [word.lower() for word in line]\n",
    "        # remove punctuation from each token\n",
    "        line = [i for i in line if i not in stop]\n",
    "        line = [ch for ch in line if ch not in exclude]\n",
    "        line = [lemma.lemmatize(word) for word in line]\n",
    "        line = [w.translate(table) for w in line]\n",
    "        # remove tokens with numbers in them\n",
    "        line = [word for word in line if word.isalpha()]\n",
    "        # store as string\n",
    "        cleaned.append(' '.join(line))\n",
    "    # remove empty strings\n",
    "    cleaned = [c for c in cleaned if len(c) > 0]\n",
    "    return cleaned"
   ]
  },
  {
   "cell_type": "code",
   "execution_count": 300,
   "metadata": {},
   "outputs": [],
   "source": [
    "rd1=clean_lines(config['text'].split('.'))"
   ]
  },
  {
   "cell_type": "code",
   "execution_count": 301,
   "metadata": {},
   "outputs": [
    {
     "data": {
      "text/plain": [
       "['updated hour ago uk government question scottish bid show britain alone revoke brexit elisabeth oleary min read edinburgh reuters british government belief question whether alone stop brexit irrelevant since intend change mind leaving european union according response legal challenge scottish lawmaker opposed brexit',\n",
       " 'court document seen reuters theresa government submitted legal response challenge filed group antibrexit scottish lawmaker court session supreme civil court',\n",
       " 'court must decide within twoweek period whether full hearing called',\n",
       " 'petitioner seek show britain can case arises change mind leaving biggest trading bloc alone',\n",
       " 'say case bargaining position would strengthened would kowtow demand eu member rejoin',\n",
       " 'may formally notified eu intention leave triggering article lisbon treaty march last year starting twoyear exit process',\n",
       " 'said tolerate attempt parliament block',\n",
       " 'british lawmaker defied government december voting wish securing parliament much substantial say whether accept final brexit deal',\n",
       " 'court document sent response brexit minister david davis argued petitioner failed provide proper ground',\n",
       " 'genuine dispute proper construction article teu order sought refused',\n",
       " 'spokeswoman uk government immediate comment',\n",
       " 'briton voted',\n",
       " 'percent leave eu june may currently drawing plan prospective trade deal eu brexit happens',\n",
       " 'would terrible would parliament decide like brexit deal government managed fell long way short people promised referendum campaign one know jo maugham qc crowdfunded petition told reuters',\n",
       " 'would enormously disruptive political economic life whole european said',\n",
       " 'know question of revoking arise whether question arise',\n",
       " 'know bloody well wish the question answered said',\n",
       " 'separately legal source told reuters labour lawmaker preparing letter support lawmaker scottish brexit litigation',\n",
       " 'supreme civil judicial body decide whether case go hearing and eventually european court justice make final decision',\n",
       " 'may bearing whether brexit happens happens public opinion change',\n",
       " 'government want u believe either accept deal offer crash march said joanna cherry qc one petitioner lawmaker scottish national party',\n",
       " 'european council president donald tusk french president emmanuel macron past week mentioned possibility uk could still change mind leaving implication change mind would acceptable other eu members',\n",
       " 'since referendum opponent brexit home abroad said britain could change mind legally avoid say disastrous consequence economy',\n",
       " 'reporting elisabeth oleary editing william maclean']"
      ]
     },
     "execution_count": 301,
     "metadata": {},
     "output_type": "execute_result"
    }
   ],
   "source": [
    "rd1"
   ]
  },
  {
   "cell_type": "code",
   "execution_count": 307,
   "metadata": {},
   "outputs": [],
   "source": [
    "final=[]\n",
    "for i in rd1:\n",
    " p=i.split()\n",
    " final.append(p)   "
   ]
  },
  {
   "cell_type": "code",
   "execution_count": 308,
   "metadata": {},
   "outputs": [
    {
     "data": {
      "text/plain": [
       "[['updated',\n",
       "  'hour',\n",
       "  'ago',\n",
       "  'uk',\n",
       "  'government',\n",
       "  'question',\n",
       "  'scottish',\n",
       "  'bid',\n",
       "  'show',\n",
       "  'britain',\n",
       "  'alone',\n",
       "  'revoke',\n",
       "  'brexit',\n",
       "  'elisabeth',\n",
       "  'oleary',\n",
       "  'min',\n",
       "  'read',\n",
       "  'edinburgh',\n",
       "  'reuters',\n",
       "  'british',\n",
       "  'government',\n",
       "  'belief',\n",
       "  'question',\n",
       "  'whether',\n",
       "  'alone',\n",
       "  'stop',\n",
       "  'brexit',\n",
       "  'irrelevant',\n",
       "  'since',\n",
       "  'intend',\n",
       "  'change',\n",
       "  'mind',\n",
       "  'leaving',\n",
       "  'european',\n",
       "  'union',\n",
       "  'according',\n",
       "  'response',\n",
       "  'legal',\n",
       "  'challenge',\n",
       "  'scottish',\n",
       "  'lawmaker',\n",
       "  'opposed',\n",
       "  'brexit'],\n",
       " ['court',\n",
       "  'document',\n",
       "  'seen',\n",
       "  'reuters',\n",
       "  'theresa',\n",
       "  'government',\n",
       "  'submitted',\n",
       "  'legal',\n",
       "  'response',\n",
       "  'challenge',\n",
       "  'filed',\n",
       "  'group',\n",
       "  'antibrexit',\n",
       "  'scottish',\n",
       "  'lawmaker',\n",
       "  'court',\n",
       "  'session',\n",
       "  'supreme',\n",
       "  'civil',\n",
       "  'court'],\n",
       " ['court',\n",
       "  'must',\n",
       "  'decide',\n",
       "  'within',\n",
       "  'twoweek',\n",
       "  'period',\n",
       "  'whether',\n",
       "  'full',\n",
       "  'hearing',\n",
       "  'called'],\n",
       " ['petitioner',\n",
       "  'seek',\n",
       "  'show',\n",
       "  'britain',\n",
       "  'can',\n",
       "  'case',\n",
       "  'arises',\n",
       "  'change',\n",
       "  'mind',\n",
       "  'leaving',\n",
       "  'biggest',\n",
       "  'trading',\n",
       "  'bloc',\n",
       "  'alone'],\n",
       " ['say',\n",
       "  'case',\n",
       "  'bargaining',\n",
       "  'position',\n",
       "  'would',\n",
       "  'strengthened',\n",
       "  'would',\n",
       "  'kowtow',\n",
       "  'demand',\n",
       "  'eu',\n",
       "  'member',\n",
       "  'rejoin'],\n",
       " ['may',\n",
       "  'formally',\n",
       "  'notified',\n",
       "  'eu',\n",
       "  'intention',\n",
       "  'leave',\n",
       "  'triggering',\n",
       "  'article',\n",
       "  'lisbon',\n",
       "  'treaty',\n",
       "  'march',\n",
       "  'last',\n",
       "  'year',\n",
       "  'starting',\n",
       "  'twoyear',\n",
       "  'exit',\n",
       "  'process'],\n",
       " ['said', 'tolerate', 'attempt', 'parliament', 'block'],\n",
       " ['british',\n",
       "  'lawmaker',\n",
       "  'defied',\n",
       "  'government',\n",
       "  'december',\n",
       "  'voting',\n",
       "  'wish',\n",
       "  'securing',\n",
       "  'parliament',\n",
       "  'much',\n",
       "  'substantial',\n",
       "  'say',\n",
       "  'whether',\n",
       "  'accept',\n",
       "  'final',\n",
       "  'brexit',\n",
       "  'deal'],\n",
       " ['court',\n",
       "  'document',\n",
       "  'sent',\n",
       "  'response',\n",
       "  'brexit',\n",
       "  'minister',\n",
       "  'david',\n",
       "  'davis',\n",
       "  'argued',\n",
       "  'petitioner',\n",
       "  'failed',\n",
       "  'provide',\n",
       "  'proper',\n",
       "  'ground'],\n",
       " ['genuine',\n",
       "  'dispute',\n",
       "  'proper',\n",
       "  'construction',\n",
       "  'article',\n",
       "  'teu',\n",
       "  'order',\n",
       "  'sought',\n",
       "  'refused'],\n",
       " ['spokeswoman', 'uk', 'government', 'immediate', 'comment'],\n",
       " ['briton', 'voted'],\n",
       " ['percent',\n",
       "  'leave',\n",
       "  'eu',\n",
       "  'june',\n",
       "  'may',\n",
       "  'currently',\n",
       "  'drawing',\n",
       "  'plan',\n",
       "  'prospective',\n",
       "  'trade',\n",
       "  'deal',\n",
       "  'eu',\n",
       "  'brexit',\n",
       "  'happens'],\n",
       " ['would',\n",
       "  'terrible',\n",
       "  'would',\n",
       "  'parliament',\n",
       "  'decide',\n",
       "  'like',\n",
       "  'brexit',\n",
       "  'deal',\n",
       "  'government',\n",
       "  'managed',\n",
       "  'fell',\n",
       "  'long',\n",
       "  'way',\n",
       "  'short',\n",
       "  'people',\n",
       "  'promised',\n",
       "  'referendum',\n",
       "  'campaign',\n",
       "  'one',\n",
       "  'know',\n",
       "  'jo',\n",
       "  'maugham',\n",
       "  'qc',\n",
       "  'crowdfunded',\n",
       "  'petition',\n",
       "  'told',\n",
       "  'reuters'],\n",
       " ['would',\n",
       "  'enormously',\n",
       "  'disruptive',\n",
       "  'political',\n",
       "  'economic',\n",
       "  'life',\n",
       "  'whole',\n",
       "  'european',\n",
       "  'said'],\n",
       " ['know',\n",
       "  'question',\n",
       "  'of',\n",
       "  'revoking',\n",
       "  'arise',\n",
       "  'whether',\n",
       "  'question',\n",
       "  'arise'],\n",
       " ['know', 'bloody', 'well', 'wish', 'the', 'question', 'answered', 'said'],\n",
       " ['separately',\n",
       "  'legal',\n",
       "  'source',\n",
       "  'told',\n",
       "  'reuters',\n",
       "  'labour',\n",
       "  'lawmaker',\n",
       "  'preparing',\n",
       "  'letter',\n",
       "  'support',\n",
       "  'lawmaker',\n",
       "  'scottish',\n",
       "  'brexit',\n",
       "  'litigation'],\n",
       " ['supreme',\n",
       "  'civil',\n",
       "  'judicial',\n",
       "  'body',\n",
       "  'decide',\n",
       "  'whether',\n",
       "  'case',\n",
       "  'go',\n",
       "  'hearing',\n",
       "  'and',\n",
       "  'eventually',\n",
       "  'european',\n",
       "  'court',\n",
       "  'justice',\n",
       "  'make',\n",
       "  'final',\n",
       "  'decision'],\n",
       " ['may',\n",
       "  'bearing',\n",
       "  'whether',\n",
       "  'brexit',\n",
       "  'happens',\n",
       "  'happens',\n",
       "  'public',\n",
       "  'opinion',\n",
       "  'change'],\n",
       " ['government',\n",
       "  'want',\n",
       "  'u',\n",
       "  'believe',\n",
       "  'either',\n",
       "  'accept',\n",
       "  'deal',\n",
       "  'offer',\n",
       "  'crash',\n",
       "  'march',\n",
       "  'said',\n",
       "  'joanna',\n",
       "  'cherry',\n",
       "  'qc',\n",
       "  'one',\n",
       "  'petitioner',\n",
       "  'lawmaker',\n",
       "  'scottish',\n",
       "  'national',\n",
       "  'party'],\n",
       " ['european',\n",
       "  'council',\n",
       "  'president',\n",
       "  'donald',\n",
       "  'tusk',\n",
       "  'french',\n",
       "  'president',\n",
       "  'emmanuel',\n",
       "  'macron',\n",
       "  'past',\n",
       "  'week',\n",
       "  'mentioned',\n",
       "  'possibility',\n",
       "  'uk',\n",
       "  'could',\n",
       "  'still',\n",
       "  'change',\n",
       "  'mind',\n",
       "  'leaving',\n",
       "  'implication',\n",
       "  'change',\n",
       "  'mind',\n",
       "  'would',\n",
       "  'acceptable',\n",
       "  'other',\n",
       "  'eu',\n",
       "  'members'],\n",
       " ['since',\n",
       "  'referendum',\n",
       "  'opponent',\n",
       "  'brexit',\n",
       "  'home',\n",
       "  'abroad',\n",
       "  'said',\n",
       "  'britain',\n",
       "  'could',\n",
       "  'change',\n",
       "  'mind',\n",
       "  'legally',\n",
       "  'avoid',\n",
       "  'say',\n",
       "  'disastrous',\n",
       "  'consequence',\n",
       "  'economy'],\n",
       " ['reporting', 'elisabeth', 'oleary', 'editing', 'william', 'maclean']]"
      ]
     },
     "execution_count": 308,
     "metadata": {},
     "output_type": "execute_result"
    }
   ],
   "source": [
    "final"
   ]
  },
  {
   "cell_type": "code",
   "execution_count": null,
   "metadata": {},
   "outputs": [],
   "source": []
  }
 ],
 "metadata": {
  "kernelspec": {
   "display_name": "Python 3",
   "language": "python",
   "name": "python3"
  },
  "language_info": {
   "codemirror_mode": {
    "name": "ipython",
    "version": 3
   },
   "file_extension": ".py",
   "mimetype": "text/x-python",
   "name": "python",
   "nbconvert_exporter": "python",
   "pygments_lexer": "ipython3",
   "version": "3.6.5"
  }
 },
 "nbformat": 4,
 "nbformat_minor": 2
}
